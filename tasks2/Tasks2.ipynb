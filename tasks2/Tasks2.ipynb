{
 "cells": [
  {
   "cell_type": "markdown",
   "metadata": {
    "id": "0z3KlfKDn4_K"
   },
   "source": [
    "# Контрольные задачи 2. \n"
   ]
  },
  {
   "cell_type": "markdown",
   "metadata": {
    "id": "96Gi_LEvmSVH"
   },
   "source": [
    "## Выполнил Афанасьев Никита БВТ2104\n",
    "***"
   ]
  },
  {
   "cell_type": "markdown",
   "metadata": {
    "id": "Wggfn8l7nG72"
   },
   "source": [
    "### Функция для тестирования"
   ]
  },
  {
   "cell_type": "code",
   "execution_count": 2,
   "metadata": {
    "tags": []
   },
   "outputs": [],
   "source": [
    "def test(algorythm, data):\n",
    "    for inp, res in data:\n",
    "        assert algorythm(inp) == res\n",
    "    print('Success')"
   ]
  },
  {
   "cell_type": "markdown",
   "metadata": {
    "id": "Wggfn8l7nG72"
   },
   "source": [
    "### Задача 1\n",
    "Даны две строки: s1 и s2 с одинаковым размером, проверьте, может ли некоторая перестановка строки s1 “победить” некоторую перестановку\n",
    "строки s2 или наоборот. Строка x может “победить” строку y (обе имеют размер n), если x[i]> = y[i] (в алфавитном порядке) для всех i от 0 до n-1."
   ]
  },
  {
   "cell_type": "code",
   "execution_count": 3,
   "metadata": {
    "id": "681a95mZnOSa"
   },
   "outputs": [
    {
     "name": "stdout",
     "output_type": "stream",
     "text": [
      "Success\n"
     ]
    }
   ],
   "source": [
    "def str_can_win(s):\n",
    "    s1, s2 = s\n",
    "    s1 = ''.join(sorted(list(s1)))\n",
    "    s2 = ''.join(sorted(list(s2)))\n",
    "\n",
    "    for i in range(len(s1)):\n",
    "        if s1[i] >= s2[i]:\n",
    "            continue\n",
    "        break\n",
    "    else:\n",
    "        return True\n",
    "\n",
    "    for i in range(len(s2)):\n",
    "        if s2[i] >= s1[i]:\n",
    "            continue\n",
    "        break\n",
    "    else:\n",
    "        return True\n",
    "\n",
    "    return False\n",
    "\n",
    "\n",
    "str_can_win_test_data = [\n",
    "    [['abe', 'acd'], False],\n",
    "    [['abc', 'xya'], True],\n",
    "]\n",
    "\n",
    "test(str_can_win, str_can_win_test_data)"
   ]
  },
  {
   "cell_type": "markdown",
   "metadata": {
    "id": "Wggfn8l7nG72"
   },
   "source": [
    "### Задача 2\n",
    "Дана строка s, вернуть самую длинную палиндромную подстроку в s."
   ]
  },
  {
   "cell_type": "code",
   "execution_count": 4,
   "metadata": {
    "tags": []
   },
   "outputs": [
    {
     "name": "stdout",
     "output_type": "stream",
     "text": [
      "Success\n"
     ]
    }
   ],
   "source": [
    "def longest_palindrome_substring(s):\n",
    "    def longest_valid(i, j):\n",
    "        while i >= 0 and j < len(s) and s[i] == s[j]:\n",
    "            i -= 1\n",
    "            j += 1\n",
    "        i += 1\n",
    "        j -= 1\n",
    "\n",
    "        return i, j\n",
    "\n",
    "    longest = (0, -1)\n",
    "\n",
    "    for k in range(len(s)):\n",
    "        # for even palindrome\n",
    "        start, end = longest_valid(k - 1, k)\n",
    "        if end - start > longest[1] - longest[0]:\n",
    "            longest = (start, end)\n",
    "\n",
    "        # for odd palindrome\n",
    "        start, end = longest_valid(k, k)\n",
    "        if end - start > longest[1] - longest[0]:\n",
    "            longest = (start, end)\n",
    "\n",
    "    return s[longest[0]:longest[1]+1]\n",
    "\n",
    "\n",
    "longest_palindrome_substring_test_data = [\n",
    "    ['babad', 'bab'],\n",
    "    ['cbbd', 'bb'],\n",
    "    ['cbkd', 'c']\n",
    "]\n",
    "\n",
    "test(longest_palindrome_substring, longest_palindrome_substring_test_data)"
   ]
  },
  {
   "cell_type": "markdown",
   "metadata": {
    "id": "Wggfn8l7nG72",
    "tags": []
   },
   "source": [
    "### Задача 3\n",
    "Вернуть количество отдельных непустых подстрок текста, которые могут быть записаны как конкатенация некоторой строки с самой собой (т.е. она может быть записана, как a + a, где a - некоторая строка)."
   ]
  },
  {
   "cell_type": "code",
   "execution_count": 5,
   "metadata": {
    "tags": []
   },
   "outputs": [
    {
     "name": "stdout",
     "output_type": "stream",
     "text": [
      "Success\n"
     ]
    }
   ],
   "source": [
    "def count_self_concatenation_substring(s):\n",
    "    l = len(s)\n",
    "    substrs = set()\n",
    "\n",
    "    for i in range(l-1):\n",
    "        for j in range(i+1, l):\n",
    "            if (j - i) % 2 == 1:\n",
    "                temp = s[i:j+1]\n",
    "                lt = len(temp)\n",
    "\n",
    "                if temp[0:lt//2] == temp[lt//2:lt]:\n",
    "                    substrs.add(temp[0:lt//2])\n",
    "\n",
    "    return len(substrs)\n",
    "\n",
    "\n",
    "count_self_concatenation_substring_test_data = [\n",
    "    ['abcabcabc', 3],\n",
    "    ['cbbd', 1],\n",
    "    ['cbkd', 0]\n",
    "]\n",
    "\n",
    "test(count_self_concatenation_substring, count_self_concatenation_substring_test_data)"
   ]
  },
  {
   "cell_type": "code",
   "execution_count": null,
   "metadata": {},
   "outputs": [],
   "source": []
  }
 ],
 "metadata": {
  "colab": {
   "provenance": []
  },
  "kernelspec": {
   "display_name": "Python 3 (ipykernel)",
   "language": "python",
   "name": "python3"
  },
  "language_info": {
   "codemirror_mode": {
    "name": "ipython",
    "version": 3
   },
   "file_extension": ".py",
   "mimetype": "text/x-python",
   "name": "python",
   "nbconvert_exporter": "python",
   "pygments_lexer": "ipython3",
   "version": "3.9.13"
  }
 },
 "nbformat": 4,
 "nbformat_minor": 4
}
