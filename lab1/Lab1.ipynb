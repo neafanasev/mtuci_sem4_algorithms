{
 "cells": [
  {
   "cell_type": "markdown",
   "id": "fifteen-sailing",
   "metadata": {
    "id": "fifteen-sailing"
   },
   "source": [
    "# Лабораторная работа №1\n",
    "## Выполнил студент группы БВТ2104 Афанасьев Никита"
   ]
  },
  {
   "cell_type": "markdown",
   "id": "particular-syndicate",
   "metadata": {
    "id": "particular-syndicate"
   },
   "source": [
    "### Оглавление\n",
    "1. [Задание 1](#Задание-№1)\n",
    "2. [Задание 2](#Задание-№2)\n",
    "3. [Задание 3](#Задание-№3)\n",
    "4. [Вывод](#Вывод)"
   ]
  },
  {
   "cell_type": "markdown",
   "id": "arctic-stocks",
   "metadata": {
    "id": "arctic-stocks"
   },
   "source": [
    "### Задание №1\n",
    "<i> Вызвать функцию print() и передать туда строку Hello, World! </i>"
   ]
  },
  {
   "cell_type": "code",
   "execution_count": null,
   "id": "caring-truck",
   "metadata": {
    "id": "caring-truck",
    "scrolled": true,
    "tags": []
   },
   "outputs": [],
   "source": [
    "print(\"Hello, World!\")"
   ]
  },
  {
   "cell_type": "markdown",
   "id": "maritime-conversation",
   "metadata": {
    "id": "maritime-conversation"
   },
   "source": [
    "### Задание №2\n",
    "Написать генератор случайных матриц(многомерных), который принимает\n",
    "опциональные параметры <b>m</b>, <b>n</b>, <b>min_limit</b>, <b>max_limit</b>, где <b>m</b> и <b>n</b> указывают размер\n",
    "матрицы, а <b>min_lim</b> и <b>max_lim</b> - минимальное и максимальное значение для\n",
    "генерируемого числа."
   ]
  },
  {
   "cell_type": "code",
   "execution_count": null,
   "id": "built-contact",
   "metadata": {
    "id": "built-contact",
    "tags": []
   },
   "outputs": [],
   "source": [
    "import random\n",
    "import time"
   ]
  },
  {
   "cell_type": "code",
   "execution_count": null,
   "id": "alert-charm",
   "metadata": {
    "id": "alert-charm",
    "outputId": "c95dd9e7-d076-4718-b6fb-25f2e6bc03b9",
    "tags": []
   },
   "outputs": [],
   "source": [
    "user_m = int(input())\n",
    "user_n = int(input())\n",
    "user_min_limit = int(input())\n",
    "user_max_limit = int(input())\n",
    "#я посчитал оптимальным генерировать матрицы внутри тестировочной функции"
   ]
  },
  {
   "cell_type": "markdown",
   "id": "catholic-roots",
   "metadata": {
    "id": "catholic-roots"
   },
   "source": [
    "### Задание №3\n",
    "Реализовать методы сортировки строк числовой матрицы в соответствии с\n",
    "заданием. Оценить время работы каждого алгоритма сортировки и сравнить его со\n",
    "временем стандартной функции сортировки. Испытания проводить на сгенерированных\n",
    "матрицах."
   ]
  },
  {
   "cell_type": "code",
   "execution_count": null,
   "id": "opposed-creature",
   "metadata": {
    "id": "opposed-creature"
   },
   "outputs": [],
   "source": [
    "import copy\n",
    "\n",
    "import matplotlib.pyplot as plt\n",
    "import numpy as np\n",
    "\n",
    "\n",
    "def test_alg(data_row, alg):\n",
    "    start_time = time.time()*1000\n",
    "    sorted_data = alg(data_row)\n",
    "    end_time = time.time()*1000\n",
    "\n",
    "    return sorted_data, end_time - start_time\n",
    "\n",
    "\n",
    "def test(alg, max_elements, attempts, max_number=100, min_number=-100):\n",
    "    elements = []\n",
    "    avg_time_alg = []\n",
    "    avg_time_dft = []\n",
    "\n",
    "    for n_elements in range(0, max_elements + 1, 50):\n",
    "        elements += [n_elements]\n",
    "        data = [[random.randint(min_number, max_number) for __ in range(n_elements)] for _ in range(attempts)]\n",
    "        time_alg_arr = []\n",
    "        time_dft_arr = []\n",
    "\n",
    "        for j in range(attempts):\n",
    "            data_alg, time_alg = test_alg(copy.copy(data[j]), alg)\n",
    "            data_dft, time_dft = test_alg(copy.copy(data[j]), sorted)\n",
    "\n",
    "            assert data_alg == data_dft\n",
    "\n",
    "            time_alg_arr += [time_alg]\n",
    "            time_dft_arr += [time_dft]\n",
    "\n",
    "        avg_time_alg += [sum(time_alg_arr)/attempts]\n",
    "        avg_time_dft += [sum(time_dft_arr)/attempts]\n",
    "\n",
    "    x = np.array(elements, int)\n",
    "    y_alg = np.array(avg_time_alg, float)\n",
    "    y_dft = np.array(avg_time_dft, float)\n",
    "\n",
    "    plt.plot(x, y_alg, color='b', label='my ' + alg.__name__)\n",
    "    plt.plot(x, y_dft, color='r', label='python\\'s ' + alg.__name__)\n",
    "\n",
    "    plt.xlabel(\"Elements\")\n",
    "    plt.ylabel(\"Time, ms\")\n",
    "    plt.title(alg.__name__)\n",
    "    plt.legend(loc=\"upper left\")\n",
    "\n",
    "    plt.show()"
   ]
  },
  {
   "cell_type": "code",
   "execution_count": null,
   "id": "cleared-anniversary",
   "metadata": {
    "id": "cleared-anniversary",
    "outputId": "b7c76c60-4acb-4c14-9bfb-d4f8d71093a1"
   },
   "outputs": [],
   "source": [
    "# Сортировка выбором.\n",
    "def selection_sort(arr):\n",
    "    for i in range(len(arr)-1):\n",
    "        min_index = i\n",
    "        for j in range(i+1, len(arr)):\n",
    "            if arr[min_index] > arr[j]:\n",
    "                min_index = j\n",
    "        if min_index != i:\n",
    "            arr[i], arr[min_index] = arr[min_index], arr[i]\n",
    "    return arr\n",
    "\n",
    "test(selection_sort, user_n, user_m, user_max_limit, user_min_limit)"
   ]
  },
  {
   "cell_type": "code",
   "execution_count": null,
   "id": "roman-silly",
   "metadata": {
    "id": "roman-silly",
    "outputId": "84666b71-fb68-4c07-d27d-e716af29fcbb",
    "scrolled": true
   },
   "outputs": [],
   "source": [
    "# Сортировка вставкой.\n",
    "def insertion_sort(arr):\n",
    "    for i in range(len(arr)):\n",
    "        j = i-1\n",
    "        key = arr[i]\n",
    "        while arr[j] > key and j >= 0:\n",
    "            arr[j+1] = arr[j]\n",
    "            j -= 1\n",
    "        arr[j+1] = key\n",
    "    return arr\n",
    "\n",
    "test(insertion_sort, user_n, user_m, user_max_limit, user_min_limit)"
   ]
  },
  {
   "cell_type": "code",
   "execution_count": null,
   "id": "vital-implementation",
   "metadata": {
    "id": "vital-implementation",
    "outputId": "7b648bf5-37a5-4d47-926d-b799f7a23be2"
   },
   "outputs": [],
   "source": [
    "# Сортировка обменом. || Сортировка пузырьком.\n",
    "def bubble_sort(arr):\n",
    "    for i in range(len(arr)-1):\n",
    "        for j in range(len(arr)-i-1):\n",
    "            if arr[j] > arr[j+1]:\n",
    "                arr[j], arr[j+1] = arr[j+1], arr[j]\n",
    "    return arr\n",
    "\n",
    "test(bubble_sort, user_n, user_m, user_max_limit, user_min_limit)"
   ]
  },
  {
   "cell_type": "code",
   "execution_count": null,
   "id": "veterinary-glory",
   "metadata": {
    "id": "veterinary-glory",
    "outputId": "9cc2a9ff-ec7a-43de-e4a8-47945d030986"
   },
   "outputs": [],
   "source": [
    "# Сортировка Шелла.\n",
    "def shell_sort(arr):\n",
    "    l = len(arr)\n",
    "    step = l//2\n",
    "    while step:\n",
    "        for i in range(l):\n",
    "            cur = arr[i]\n",
    "            while i >= step and arr[i-step] > cur:\n",
    "                arr[i] = arr[i-step]\n",
    "                i -= step\n",
    "            arr[i] = cur\n",
    "        step //= 2\n",
    "    return arr\n",
    "\n",
    "test(shell_sort, user_n, user_m, user_max_limit, user_min_limit)"
   ]
  },
  {
   "cell_type": "code",
   "execution_count": null,
   "id": "correct-chaos",
   "metadata": {
    "id": "correct-chaos",
    "outputId": "f4d9aef1-8a2f-46a0-def0-4c9e049f5c77"
   },
   "outputs": [],
   "source": [
    "# Быстрая сортировка.\n",
    "def quick_sort(arr):\n",
    "    if len(arr) <= 1:\n",
    "        return arr\n",
    "    el = arr[0]\n",
    "\n",
    "    left = [i for i in arr if i < el]\n",
    "    center = [i for i in arr if i == el]\n",
    "    right = [i for i in arr if i > el]\n",
    "\n",
    "    return quick_sort(left) + center + quick_sort(right)\n",
    "\n",
    "test(quick_sort, user_n, user_m, user_max_limit, user_min_limit)"
   ]
  },
  {
   "cell_type": "code",
   "execution_count": null,
   "id": "french-czech",
   "metadata": {
    "colab": {
     "base_uri": "https://localhost:8080/",
     "height": 217
    },
    "id": "french-czech",
    "outputId": "7e38b779-8bbf-4955-c3ad-2a6be0ee386a"
   },
   "outputs": [],
   "source": [
    "# Турнирная сортировка.\n",
    "\n",
    "class PriorityQueue:\n",
    "    data = []\n",
    "\n",
    "    def __init__(self, arr):\n",
    "        self.data = arr\n",
    "        for i in reversed(range(len(arr) // 2)):\n",
    "            self._sift_down(i)\n",
    "\n",
    "    def _sift_down(self, i):\n",
    "        while True:\n",
    "            left = i * 2 + 1\n",
    "            right = i * 2 + 2\n",
    "\n",
    "            if len(self.data) <= left:\n",
    "                lowest = i\n",
    "            elif len(self.data) <= right or self.data[left] < self.data[right]:\n",
    "                lowest = left\n",
    "            else:\n",
    "                lowest = right\n",
    "\n",
    "            if lowest == i or self.data[i] < self.data[lowest]:\n",
    "                break\n",
    "\n",
    "            self.data[i], self.data[lowest] = self.data[lowest], self.data[i]\n",
    "            i = lowest\n",
    "\n",
    "    def _sift_up(self, i):\n",
    "        while i > 0:\n",
    "            parent = (i - 1) // 2\n",
    "            if self.data[parent] <= self.data[i]:\n",
    "                return\n",
    "            self.data[i], self.data[parent] = self.data[parent], self.data[i]\n",
    "            i = parent\n",
    "\n",
    "    def push(self, el):\n",
    "        self.data += [el]\n",
    "        self._sift_up(len(self.data) - 1)\n",
    "\n",
    "    def pop(self):\n",
    "        if not len(self.data):\n",
    "            return\n",
    "\n",
    "        res = self.data[0]\n",
    "        self.data[0] = self.data[len(self.data) - 1]\n",
    "        self.data = self.data[:len(self.data) - 1]\n",
    "\n",
    "        if len(self.data):\n",
    "            self._sift_down(0)\n",
    "\n",
    "        return res\n",
    "\n",
    "    def size(self):\n",
    "        return len(self.data)\n",
    "\n",
    "\n",
    "def merge(arr1, arr2):\n",
    "    i, j = 0, 0\n",
    "    res = []\n",
    "    while i < len(arr1) and j < len(arr2):\n",
    "        if arr1[i] < arr2[j]:\n",
    "            res += [arr1[i]]\n",
    "            i += 1\n",
    "        else:\n",
    "            res += [arr2[j]]\n",
    "            j += 1\n",
    "    res += arr1[i:]\n",
    "    res += arr2[j:]\n",
    "\n",
    "    return res\n",
    "\n",
    "\n",
    "def tournament_sort(arr):\n",
    "    winners_out = []\n",
    "\n",
    "    while True:\n",
    "        losers = []\n",
    "        winners = []\n",
    "        pq = PriorityQueue(arr[:7])\n",
    "\n",
    "        i = pq.size()\n",
    "        while i != len(arr):\n",
    "            if not len(winners):\n",
    "                winners += [pq.pop()]\n",
    "\n",
    "            if arr[i] > winners[len(winners) - 1]:\n",
    "                pq.push(arr[i])\n",
    "            else:\n",
    "                losers += [arr[i]]\n",
    "            i += 1\n",
    "\n",
    "            if pq.size():\n",
    "                winners += [pq.pop()]\n",
    "\n",
    "        while pq.size():\n",
    "            winners += [pq.pop()]\n",
    "\n",
    "        winners_out = merge(winners_out, winners)\n",
    "\n",
    "        if not len(losers):\n",
    "            return winners_out\n",
    "\n",
    "        arr = losers\n",
    "\n",
    "test(tournament_sort, user_n, user_m, user_max_limit, user_min_limit)"
   ]
  },
  {
   "cell_type": "markdown",
   "id": "rental-jerusalem",
   "metadata": {
    "id": "rental-jerusalem"
   },
   "source": [
    "### Вывод\n"
   ]
  },
  {
   "cell_type": "markdown",
   "id": "9d108a0a",
   "metadata": {
    "id": "9d108a0a"
   },
   "source": []
  }
 ],
 "metadata": {
  "colab": {
   "provenance": []
  },
  "kernelspec": {
   "display_name": "Python 3 (ipykernel)",
   "language": "python",
   "name": "python3"
  },
  "language_info": {
   "codemirror_mode": {
    "name": "ipython",
    "version": 3
   },
   "file_extension": ".py",
   "mimetype": "text/x-python",
   "name": "python",
   "nbconvert_exporter": "python",
   "pygments_lexer": "ipython3",
   "version": "3.9.13"
  }
 },
 "nbformat": 4,
 "nbformat_minor": 5
}
