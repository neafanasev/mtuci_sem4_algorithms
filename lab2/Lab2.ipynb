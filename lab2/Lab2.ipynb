{
 "cells": [
  {
   "cell_type": "markdown",
   "id": "fifteen-sailing",
   "metadata": {
    "id": "fifteen-sailing"
   },
   "source": [
    "# Лабораторная работа №4\n",
    "## Выполнил Афанасьев Никита БВТ2104 "
   ]
  },
  {
   "cell_type": "markdown",
   "id": "arctic-stocks",
   "metadata": {
    "id": "arctic-stocks"
   },
   "source": [
    "Реализовать следующие структуры данных:\n",
    "  \n",
    "● <b> Стек (stack): </b>  \n",
    "Операции для стека: \n",
    "<i> инициализация, проверка на пустоту, добавление нового элемента в начало, извлечение элемента из начала;  </i>  \n",
    "  \n",
    "● <b> Дек (двусторонняя очередь, deque):  </b>  \n",
    "Операции для дека: \n",
    "<i> инициализация, проверка на пустоту, добавление нового элемента в начало, добавление нового элемента в конец, извлечение элемента из начала, извлечение элемента из конца. </i>  \n",
    "  \n",
    "<i> Разработать программу обработки данных, содержащихся в заранее подготовленном txt-файле, в соответствии с заданиями, применив указанную в задании структуру данных. Результат работы программы вывести на экран и сохранить в отдельном txt-файле. </i>"
   ]
  },
  {
   "cell_type": "code",
   "execution_count": null,
   "id": "70f96814-a35c-441f-be5b-130cfead7c86",
   "metadata": {},
   "outputs": [],
   "source": [
    "# stack\n",
    "import copy\n",
    "\n",
    "class Stack:\n",
    "    def __init__(self, init_arr=None, name=None):\n",
    "        self.stack = [] if not init_arr else copy.copy(init_arr)\n",
    "        self.name = None if not name else name\n",
    "        self.length = len(self.stack)\n",
    "\n",
    "    def push(self, item):\n",
    "        self.length += 1\n",
    "        self.stack.append(item)\n",
    "\n",
    "    def pop(self):\n",
    "        if self.size():\n",
    "            self.length -= 1\n",
    "            return self.stack.pop()\n",
    "\n",
    "    def peek(self):\n",
    "        if self.length:\n",
    "            return self.stack[self.length-1]\n",
    "\n",
    "    def size(self):\n",
    "        return self.length\n",
    "\n",
    "    def to_str(self):\n",
    "        return str(self.stack)\n",
    "    \n",
    "    \n",
    "# doubled linked list which basically is equal to deque\n",
    "\n",
    "class Node:\n",
    "    def __init__(self, data=None, next=None, prev=None):\n",
    "        self.data = data\n",
    "        self.next = next\n",
    "        self.prev = prev\n",
    "\n",
    "\n",
    "class DoublyLinkedList:\n",
    "    # base\n",
    "    def __init__(self):\n",
    "        self.length = 0\n",
    "        self.head = Node()\n",
    "        self.tail = Node()\n",
    "        self.head.next = self.tail\n",
    "        self.tail.prev = self.head\n",
    "\n",
    "    def add_start(self, data):\n",
    "        add_node = Node(data, self.head.next, self.head)\n",
    "        self.head.next.prev = add_node\n",
    "        self.head.next = add_node\n",
    "        self.length += 1\n",
    "\n",
    "    def add_end(self, data):\n",
    "        add_node = Node(data, self.tail, self.tail.prev)\n",
    "        self.tail.prev.next = add_node\n",
    "        self.tail.prev = add_node\n",
    "        self.length += 1\n",
    "\n",
    "    def remove_start(self):\n",
    "        if not self.length: return\n",
    "\n",
    "        remove_node = self.head.next\n",
    "        self.head.next = remove_node.next\n",
    "        remove_node.next.prev = self.head\n",
    "        self.length -= 1\n",
    "        return remove_node.data\n",
    "\n",
    "    def remove_end(self):\n",
    "        if not self.length: return\n",
    "\n",
    "        remove_node = self.tail.prev\n",
    "        self.tail.prev = remove_node.prev\n",
    "        remove_node.prev.next = self.tail\n",
    "        self.length -= 1\n",
    "        return remove_node.data\n",
    "\n",
    "    def get_head(self):\n",
    "        return self.head.next.data\n",
    "\n",
    "    def get_tail(self):\n",
    "        return self.tail.prev.data\n",
    "\n",
    "    def clear(self):\n",
    "        self.head.next = self.tail\n",
    "        self.tail.prev = self.head\n",
    "        self.length = 0\n",
    "\n",
    "    def size(self):\n",
    "        return self.length\n",
    "\n",
    "    # additional\n",
    "\n",
    "    def remove_by_value(self, value):\n",
    "        if not self.length: return\n",
    "\n",
    "        current_node = self.head.next\n",
    "\n",
    "        while current_node != self.tail and current_node.data != value:\n",
    "            current_node = current_node.next\n",
    "\n",
    "        if current_node == self.tail: return\n",
    "\n",
    "        current_node.prev.next = current_node.next\n",
    "        current_node.next.prev = current_node.prev\n",
    "        self.length -= 1\n",
    "\n",
    "        return current_node\n",
    "\n",
    "    def get_node_by_index(self, index):\n",
    "        if index < 0 or index >= self.length: raise IndexError()\n",
    "\n",
    "        if index > self.length // 2:\n",
    "            number = self.length - 1\n",
    "            current_node = self.tail.prev\n",
    "            while number != index:\n",
    "                current_node = current_node.prev\n",
    "                number -= 1\n",
    "        else:\n",
    "            number = 0\n",
    "            current_node = self.head.next\n",
    "            while number != index:\n",
    "                current_node = current_node.next\n",
    "                number += 1\n",
    "        return current_node\n",
    "\n",
    "    def get_by_index(self, index):\n",
    "        return self.get_node_by_index(index)\n",
    "\n",
    "    def remove_by_index(self, index):\n",
    "        remove_node = self.get_node_by_index(index)\n",
    "        remove_node.next.prev = remove_node.prev\n",
    "        remove_node.prev.next = remove_node.next\n",
    "        self.length -= 1\n",
    "\n",
    "        return remove_node\n",
    "\n",
    "    def insert_by_index(self, index, data):\n",
    "        current_node = self.get_node_by_index(index)\n",
    "        add_node = Node(data, current_node.next, current_node.prev)\n",
    "        current_node.next.prev = add_node\n",
    "        current_node.prev.next = add_node\n",
    "        self.length += 1\n",
    "\n",
    "    def set_by_index(self, index, data):\n",
    "        self.get_node_by_index(index).data = data"
   ]
  },
  {
   "cell_type": "markdown",
   "id": "5d7edb08",
   "metadata": {
    "id": "5d7edb08"
   },
   "source": [
    "### Задание №1\n",
    "Отсортировать строки файла, содержащие названия книг, в алфавитном порядке с использованием двух деков."
   ]
  },
  {
   "cell_type": "code",
   "execution_count": null,
   "id": "17702ade",
   "metadata": {
    "id": "17702ade"
   },
   "outputs": [],
   "source": [
    "f1 = open('input1.txt', 'r', encoding='utf8')\n",
    "data1 = [i[:-1] for i in f1.readlines()]\n",
    "f1.close()\n",
    "\n",
    "def sort_by_deques(arr):\n",
    "    d1 = DoublyLinkedList()\n",
    "    d2 = DoublyLinkedList()\n",
    "\n",
    "    for i in arr:\n",
    "        d1.add_end(i)\n",
    "\n",
    "    while d1.size():\n",
    "        temp = d1.remove_end()\n",
    "\n",
    "        while d2.size() and temp < d2.get_tail():\n",
    "           d1.add_start(d2.remove_end())\n",
    "\n",
    "        d2.add_end(temp)\n",
    "\n",
    "    return [d2.remove_start() for _ in range(len(arr))]\n",
    "\n",
    "\n",
    "print(sort_by_deques(data1))"
   ]
  },
  {
   "cell_type": "markdown",
   "id": "49fbd2a0",
   "metadata": {
    "id": "49fbd2a0"
   },
   "source": [
    "### Задание №2\n",
    "Дек содержит последовательность символов для шифровки сообщений. Дан текстовый файл, содержащий зашифрованное сообщение. Пользуясь деком, расшифровать текст. \n",
    "Известно, что при шифровке каждый символ сообщения заменялся следующим за ним в деке по часовой стрелке через один."
   ]
  },
  {
   "cell_type": "code",
   "execution_count": null,
   "id": "81cab7a8",
   "metadata": {
    "id": "81cab7a8"
   },
   "outputs": [],
   "source": [
    "# setting Deque\n",
    "\n",
    "import random\n",
    "\n",
    "alphabet = list('abcdefghijklmnopqrstuvwxyz')\n",
    "random.shuffle(alphabet)\n",
    "alphabet = ''.join(alphabet)\n",
    "\n",
    "keyDeque = DoublyLinkedList()\n",
    "\n",
    "for i in alphabet:\n",
    "    keyDeque.add_end(i)\n",
    "    \n",
    "print(alphabet)"
   ]
  },
  {
   "cell_type": "code",
   "execution_count": null,
   "id": "27d225e9-5a0f-4627-a96a-43c87f2c9fc9",
   "metadata": {
    "tags": []
   },
   "outputs": [],
   "source": [
    "# encoding\n",
    "\n",
    "\n",
    "def encode(letter):\n",
    "    for _ in range(keyDeque.size()):\n",
    "        if keyDeque.get_head() == letter:\n",
    "            keyDeque.add_end(keyDeque.remove_start())\n",
    "            keyDeque.add_end(keyDeque.remove_start())\n",
    "            return keyDeque.get_head()\n",
    "        keyDeque.add_end(keyDeque.remove_start())\n",
    "    return letter\n",
    "\n",
    "\n",
    "text_to_encode = input('text_to_encode: ')\n",
    "encoded_text = ''\n",
    "\n",
    "for ch in text_to_encode:\n",
    "    encoded_text += encode(ch)\n",
    "    \n",
    "print(encoded_text)"
   ]
  },
  {
   "cell_type": "code",
   "execution_count": null,
   "id": "6ca6850e-4a8f-4ee2-b11d-4bbde825a0cb",
   "metadata": {
    "tags": []
   },
   "outputs": [],
   "source": [
    "# decoding\n",
    "\n",
    "\n",
    "def decode(letter):\n",
    "    for _ in range(keyDeque.size()):\n",
    "        if keyDeque.get_tail() == letter:\n",
    "            keyDeque.add_start(keyDeque.remove_end())\n",
    "            keyDeque.add_start(keyDeque.remove_end())\n",
    "            return keyDeque.get_tail()\n",
    "        keyDeque.add_start(keyDeque.remove_end())\n",
    "    return letter\n",
    "\n",
    "\n",
    "text_to_decode = input('text_to_decode: ')\n",
    "decoded_text = ''\n",
    "\n",
    "for ch in text_to_decode:\n",
    "    decoded_text += decode(ch)\n",
    "\n",
    "print(decoded_text)"
   ]
  },
  {
   "cell_type": "markdown",
   "id": "c0894f47",
   "metadata": {
    "id": "c0894f47"
   },
   "source": [
    "### Задание №3\n",
    "Даны три стержня и n дисков различного размера. Диски можно надевать на стержни, образуя из них башни. Перенести n дисков со стержня А на стержень С, сохранив их первоначальный порядок. При переносе дисков необходимо соблюдать следующие правила:\n",
    "- на каждом шаге со стержня на стержень переносить только один диск;\n",
    "- диск нельзя помещать на диск меньшего размера;\n",
    "- для промежуточного хранения можно использовать стержень В.\n",
    "Реализовать алгоритм, используя три стека вместо стержней А, В, С. Информация о дисках хранится в исходном файле."
   ]
  },
  {
   "cell_type": "code",
   "execution_count": null,
   "id": "9e91a9d4",
   "metadata": {
    "id": "9e91a9d4"
   },
   "outputs": [],
   "source": [
    "f3 = open('input3.txt', 'r')\n",
    "data3 = int(f3.readlines()[0])\n",
    "f3.close()\n",
    "\n",
    "A = Stack([i for i in range(data3, 0, -1)], name='A')\n",
    "B = Stack(name='B')\n",
    "C = Stack(name='C')\n",
    "\n",
    "\n",
    "def hanoi(n, start, finish, temp):\n",
    "    if n == 0:\n",
    "        return\n",
    "    else:\n",
    "        hanoi(n-1, start, temp, finish)\n",
    "        print(f'move disk {start.peek()} from {start.name} to {finish.name}')\n",
    "        finish.push(start.pop())\n",
    "        hanoi(n-1, temp, finish, start)\n",
    "\n",
    "\n",
    "hanoi(data3, A, C, B)\n",
    "while C.size():\n",
    "    print(C.pop(), end=' ')"
   ]
  },
  {
   "cell_type": "markdown",
   "id": "e5b0be17",
   "metadata": {
    "id": "e5b0be17"
   },
   "source": [
    "### Задание №4\n",
    "Дан текстовый файл с программой на алгоритмическом языке. За один просмотр файла проверить баланс круглых скобок в тексте, используя стек."
   ]
  },
  {
   "cell_type": "code",
   "execution_count": null,
   "id": "5b1df60a",
   "metadata": {
    "id": "5b1df60a"
   },
   "outputs": [],
   "source": [
    "f458 = open('input458.txt', 'r')\n",
    "data458 = ''.join(f458.readlines())\n",
    "f458.close()\n",
    "\n",
    "\n",
    "def balanced_round_brackets(text):\n",
    "    stack = Stack()\n",
    "    \n",
    "    for char in text:\n",
    "        if char == '(':\n",
    "            stack.push('1')\n",
    "        elif char == ')':\n",
    "            if stack.size():\n",
    "                stack.pop()\n",
    "            else:\n",
    "                return False\n",
    "\n",
    "    return not stack.size()\n",
    "\n",
    "\n",
    "print(balanced_round_brackets(data458))"
   ]
  },
  {
   "cell_type": "markdown",
   "id": "c44cdd6b",
   "metadata": {
    "id": "c44cdd6b"
   },
   "source": [
    "### Задание №5\n",
    "Дан текстовый файл с программой на алгоритмическом языке. За один просмотр файла проверить баланс квадратных скобок в тексте, используя дек."
   ]
  },
  {
   "cell_type": "code",
   "execution_count": null,
   "id": "36b8f400",
   "metadata": {
    "id": "36b8f400"
   },
   "outputs": [],
   "source": [
    "f458 = open('input458.txt', 'r')\n",
    "data458 = ''.join(f458.readlines())\n",
    "f458.close()\n",
    "\n",
    "\n",
    "def balanced_square_brackets(text):\n",
    "    deque = DoublyLinkedList()\n",
    "\n",
    "    for char in text:\n",
    "        if char == '[':\n",
    "            deque.add_end(1)\n",
    "        elif char == ']':\n",
    "            if deque.size():\n",
    "                deque.remove_end()\n",
    "            else:\n",
    "                return False\n",
    "\n",
    "    return not deque.size()\n",
    "\n",
    "\n",
    "print(balanced_square_brackets(data458))"
   ]
  },
  {
   "cell_type": "markdown",
   "id": "59d13dc7",
   "metadata": {
    "id": "59d13dc7"
   },
   "source": [
    "### Задание №6\n",
    "Дан файл из символов. Используя стек, за один просмотр файла напечатать сначала все цифры, затем все буквы, и, наконец, все остальные символы, сохраняя исходный порядок в каждой группе символов."
   ]
  },
  {
   "cell_type": "code",
   "execution_count": null,
   "id": "297e36c2",
   "metadata": {
    "id": "297e36c2"
   },
   "outputs": [],
   "source": [
    "f6 = open('input6.txt', 'r')\n",
    "data6 = f6.readline()\n",
    "f6.close()\n",
    "\n",
    "\n",
    "def print_dig_let_other(text):\n",
    "    digits = Stack()\n",
    "    letters = Stack()\n",
    "    other = Stack()\n",
    "\n",
    "    for char in text:\n",
    "        if char.isdigit():\n",
    "            digits.push(char)\n",
    "        elif char.isalpha():\n",
    "            letters.push(char)\n",
    "        else:\n",
    "            other.push(char)\n",
    "\n",
    "    digits_rev = Stack()\n",
    "    letters_rev = Stack()\n",
    "    other_rev = Stack()\n",
    "\n",
    "    for _ in range(digits.size()):\n",
    "        digits_rev.push(digits.pop())\n",
    "\n",
    "    for _ in range(letters.size()):\n",
    "        letters_rev.push(letters.pop())\n",
    "\n",
    "    for _ in range(other.size()):\n",
    "        other_rev.push(other.pop())\n",
    "\n",
    "    for _ in range(digits_rev.size()):\n",
    "        print(digits_rev.pop())\n",
    "\n",
    "    for _ in range(letters_rev.size()):\n",
    "        print(letters_rev.pop())\n",
    "\n",
    "    for _ in range(other_rev.size()):\n",
    "        print(other_rev.pop())\n",
    "\n",
    "\n",
    "print_dig_let_other(data6)"
   ]
  },
  {
   "cell_type": "markdown",
   "id": "973f68bd",
   "metadata": {
    "id": "973f68bd"
   },
   "source": [
    "### Задание №7\n",
    "Дан файл из целых чисел. Используя дек, за один просмотр файла напечатать сначала все отрицательные числа, затем все положительные числа, сохраняя исходный порядок в каждой группе."
   ]
  },
  {
   "cell_type": "code",
   "execution_count": null,
   "id": "c56fad66",
   "metadata": {
    "id": "c56fad66"
   },
   "outputs": [],
   "source": [
    "f7 = open('input7.txt', 'r')\n",
    "data7 = [int(i) for i in f7.readline().split()]\n",
    "f7.close()\n",
    "\n",
    "\n",
    "def print_neg_pos(text):\n",
    "    positive = DoublyLinkedList()\n",
    "    negative = DoublyLinkedList()\n",
    "\n",
    "    for dig in text:\n",
    "        if dig > 0:\n",
    "            positive.add_end(dig)\n",
    "        elif dig < 0:\n",
    "            negative.add_end(dig)\n",
    "\n",
    "    for _ in range(negative.size()):\n",
    "        print(negative.remove_end())\n",
    "\n",
    "    for _ in range(positive.size()):\n",
    "        print(positive.remove_start())\n",
    "\n",
    "\n",
    "print_neg_pos(data7)"
   ]
  },
  {
   "cell_type": "markdown",
   "id": "b9228191",
   "metadata": {
    "id": "b9228191"
   },
   "source": [
    "### Задание №8\n",
    "Дан текстовый файл. Используя стек, сформировать новый текстовый файл, содержащий строки исходного файла, записанные в обратном порядке: первая строка становится последней, вторая – предпоследней и т.д."
   ]
  },
  {
   "cell_type": "code",
   "execution_count": null,
   "id": "981fbdfe",
   "metadata": {
    "id": "981fbdfe"
   },
   "outputs": [],
   "source": [
    "def reverse_file(file_name):\n",
    "    file_input = open(file_name, 'r')\n",
    "    data = file_input.readlines()\n",
    "    file_input.close()\n",
    "    stack = Stack()\n",
    "\n",
    "    for string in data:\n",
    "        stack.push(string)\n",
    "\n",
    "    # file_output = open('output8.txt', 'w')\n",
    "\n",
    "    for _ in range(stack.size()):\n",
    "        # file_output.write(stack.pop())\n",
    "        print(stack.pop())\n",
    "\n",
    "    # file_output.close()\n",
    "\n",
    "reverse_file('input458.txt')"
   ]
  },
  {
   "cell_type": "markdown",
   "id": "rental-jerusalem",
   "metadata": {
    "id": "rental-jerusalem"
   },
   "source": [
    "### Вывод\n"
   ]
  },
  {
   "cell_type": "markdown",
   "id": "0c2b8899",
   "metadata": {
    "id": "0c2b8899"
   },
   "source": []
  }
 ],
 "metadata": {
  "colab": {
   "provenance": []
  },
  "kernelspec": {
   "display_name": "Python 3 (ipykernel)",
   "language": "python",
   "name": "python3"
  },
  "language_info": {
   "codemirror_mode": {
    "name": "ipython",
    "version": 3
   },
   "file_extension": ".py",
   "mimetype": "text/x-python",
   "name": "python",
   "nbconvert_exporter": "python",
   "pygments_lexer": "ipython3",
   "version": "3.9.13"
  }
 },
 "nbformat": 4,
 "nbformat_minor": 5
}
