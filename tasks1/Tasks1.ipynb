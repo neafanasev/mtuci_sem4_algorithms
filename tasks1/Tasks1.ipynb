{
 "cells": [
  {
   "cell_type": "markdown",
   "metadata": {
    "id": "0z3KlfKDn4_K"
   },
   "source": [
    "# Контрольные задачи 1. \n"
   ]
  },
  {
   "cell_type": "markdown",
   "metadata": {
    "id": "96Gi_LEvmSVH"
   },
   "source": [
    "## Выполнил Афанасьев Никита БВТ2104\n",
    "***"
   ]
  },
  {
   "cell_type": "markdown",
   "metadata": {
    "id": "Wggfn8l7nG72"
   },
   "source": [
    "### Функция для тестирования"
   ]
  },
  {
   "cell_type": "code",
   "execution_count": 5,
   "metadata": {
    "tags": []
   },
   "outputs": [],
   "source": [
    "def test(algorythm, data):\n",
    "    for inp, res in data:\n",
    "        assert algorythm(inp) == res\n",
    "    print('Success')"
   ]
  },
  {
   "cell_type": "markdown",
   "metadata": {
    "id": "Wggfn8l7nG72"
   },
   "source": [
    "### Задача 1\n",
    "Массив A состоит из целых положительных чисел ­ длин отрезков. Составьте из трех отрезков такой треугольник, чтобы его периметр был максимально возможным. Если невозможно составить треугольник с положительной площадью ­ функция возвращает 0."
   ]
  },
  {
   "cell_type": "code",
   "execution_count": 6,
   "metadata": {
    "id": "681a95mZnOSa"
   },
   "outputs": [
    {
     "name": "stdout",
     "output_type": "stream",
     "text": [
      "Success\n"
     ]
    }
   ],
   "source": [
    "def max_perimeter(sides):\n",
    "    sides.sort()\n",
    "    max_p = 0\n",
    "\n",
    "    for i in range(len(sides)-1, 1, -1):\n",
    "        if sides[i] < sides[i-1] + sides[i-2]:\n",
    "            max_p = sides[i] + sides[i-1] + sides[i-2]\n",
    "            break\n",
    "\n",
    "    return max_p\n",
    "\n",
    "\n",
    "max_perimeter_test_data = [\n",
    "    [[2, 1, 2], 5],\n",
    "    [[1, 2, 1], 0],\n",
    "    [[3, 2, 3, 4], 10],\n",
    "    [[3, 6, 2, 3], 8],\n",
    "    [[1, 1, 2, 3, 5, 8], 0]\n",
    "]\n",
    "\n",
    "test(max_perimeter, max_perimeter_test_data)"
   ]
  },
  {
   "cell_type": "markdown",
   "metadata": {
    "id": "Wggfn8l7nG72"
   },
   "source": [
    "### Задача 2\n",
    "Дан массив неотрицательных целых чисел nums. Расположите их в таком порядке, чтобы вместе они образовали максимально возможное число"
   ]
  },
  {
   "cell_type": "code",
   "execution_count": 7,
   "metadata": {
    "tags": []
   },
   "outputs": [
    {
     "name": "stdout",
     "output_type": "stream",
     "text": [
      "Success\n"
     ]
    }
   ],
   "source": [
    "import functools\n",
    "\n",
    "\n",
    "def compare(a, b):\n",
    "    if a > b:\n",
    "        return 1\n",
    "    elif a < b:\n",
    "        return -1\n",
    "    else:\n",
    "        return 0\n",
    "\n",
    "\n",
    "def my_compare(a, b):\n",
    "    la, lb = len(a), len(b)\n",
    "\n",
    "    if la == lb:\n",
    "        return compare(b, a)\n",
    "    elif la < lb:\n",
    "        for i in range(la):\n",
    "            if a[i] != b[i]:\n",
    "                return compare(b[i], a[i])\n",
    "\n",
    "        temp = 0\n",
    "\n",
    "        for i in range(la, lb):\n",
    "            if temp != 0:\n",
    "                break\n",
    "            temp = compare(b[i], a[0])\n",
    "\n",
    "        if temp == 0:\n",
    "            return -1\n",
    "\n",
    "        return temp\n",
    "    else:\n",
    "        for i in range(lb):\n",
    "            if a[i] != b[i]:\n",
    "                return compare(a[i], b[i])\n",
    "\n",
    "        temp = 0\n",
    "\n",
    "        for i in range(lb, la):\n",
    "            if temp != 0:\n",
    "                break\n",
    "            temp = compare(a[i], b[0])\n",
    "\n",
    "        if temp == 0:\n",
    "            return -1\n",
    "\n",
    "        return -1 * temp\n",
    "\n",
    "\n",
    "def concat_max_number(numbers):\n",
    "    return ''.join(sorted([str(i) for i in numbers], key=functools.cmp_to_key(my_compare)))\n",
    "\n",
    "\n",
    "concat_max_number_test_data = [\n",
    "    [[10, 2], \"210\"],\n",
    "    [[3, 30, 34, 5, 9], \"9534330\"],\n",
    "    [[1], \"1\"],\n",
    "    [[10], \"10\"],\n",
    "    [[999999999, 99999998], \"99999999999999998\"]\n",
    "]\n",
    "\n",
    "test(concat_max_number, concat_max_number_test_data)"
   ]
  },
  {
   "cell_type": "markdown",
   "metadata": {
    "id": "Wggfn8l7nG72",
    "tags": []
   },
   "source": [
    "### Задача 3\n",
    "Дана матрица mat размером m * n, значения ­ целочисленные. Напишите функцию, сортирующую каждую диагональ матрицы по возрастанию и возвращающую получившуюся матрицу."
   ]
  },
  {
   "cell_type": "code",
   "execution_count": 8,
   "metadata": {
    "tags": []
   },
   "outputs": [
    {
     "name": "stdout",
     "output_type": "stream",
     "text": [
      "Success\n"
     ]
    }
   ],
   "source": [
    "def get_diagonals_matrix(matrix, m, n):\n",
    "    diagonals_matrix = [[] for _ in range(n + m - 1)]\n",
    "\n",
    "    for i in range(-(n - 1), m):\n",
    "        for j in range(n):\n",
    "            row, col = j, i + j\n",
    "            if 0 <= row < n and 0 <= col < m:\n",
    "                diagonals_matrix[i + n - 1].append(matrix[row][col])\n",
    "\n",
    "    return diagonals_matrix\n",
    "\n",
    "\n",
    "def get_points(m, n):\n",
    "    points = []\n",
    "    count, x, y = 0, n - 1, 0\n",
    "\n",
    "    while count < m + n - 1:\n",
    "        points.append([x, y])\n",
    "\n",
    "        if x > y:\n",
    "            x -= 1\n",
    "        elif y > x:\n",
    "            y += 1\n",
    "        else:\n",
    "            y += 1\n",
    "\n",
    "        count += 1\n",
    "\n",
    "    return points\n",
    "\n",
    "\n",
    "def sort_diagonals(matrix):\n",
    "    m, n = len(matrix[0]), len(matrix)\n",
    "\n",
    "    diagonals_matrix = [sorted(arr) for arr in get_diagonals_matrix(matrix, m, n)]\n",
    "\n",
    "    points = get_points(m, n)\n",
    "\n",
    "    for i in range(len(points)):\n",
    "        row, col = points[i][0], points[i][1]\n",
    "        diagonal = diagonals_matrix[i]\n",
    "\n",
    "        for j in range(len(diagonal)):\n",
    "            matrix[row][col] = diagonal[j]\n",
    "            row += 1\n",
    "            col += 1\n",
    "\n",
    "    return matrix\n",
    "\n",
    "\n",
    "sort_diagonals_test_data = [\n",
    "    [\n",
    "        [\n",
    "            [3, 3, 1, 1],\n",
    "            [2, 2, 1, 2],\n",
    "            [1, 1, 1, 2]\n",
    "        ],\n",
    "        [\n",
    "            [1, 1, 1, 1],\n",
    "            [1, 2, 2, 2],\n",
    "            [1, 2, 3, 3]\n",
    "        ]\n",
    "    ],\n",
    "    [\n",
    "        [\n",
    "            [11, 25, 66, 1, 69, 7],\n",
    "            [23, 55, 17, 45, 15, 52],\n",
    "            [75, 31, 36, 44, 58, 8],\n",
    "            [22, 27, 33, 25, 68, 4],\n",
    "            [84, 28, 14, 11, 5, 50]\n",
    "        ],\n",
    "        [\n",
    "            [5, 17, 4, 1, 52, 7],\n",
    "            [11, 11, 25, 45, 8, 69],\n",
    "            [14, 23, 25, 44, 58, 15],\n",
    "            [22, 27, 31, 36, 50, 66],\n",
    "            [84, 28, 75, 33, 55, 68]\n",
    "        ]\n",
    "    ]\n",
    "]\n",
    "\n",
    "test(sort_diagonals, sort_diagonals_test_data)\n"
   ]
  },
  {
   "cell_type": "code",
   "execution_count": null,
   "metadata": {},
   "outputs": [],
   "source": []
  }
 ],
 "metadata": {
  "colab": {
   "provenance": []
  },
  "kernelspec": {
   "display_name": "Python 3 (ipykernel)",
   "language": "python",
   "name": "python3"
  },
  "language_info": {
   "codemirror_mode": {
    "name": "ipython",
    "version": 3
   },
   "file_extension": ".py",
   "mimetype": "text/x-python",
   "name": "python",
   "nbconvert_exporter": "python",
   "pygments_lexer": "ipython3",
   "version": "3.9.13"
  }
 },
 "nbformat": 4,
 "nbformat_minor": 4
}
